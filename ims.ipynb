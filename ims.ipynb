{
  "nbformat": 4,
  "nbformat_minor": 5,
  "metadata": {
    "kernelspec": {
      "display_name": "Python 3",
      "language": "python",
      "name": "python3"
    },
    "language_info": {
      "codemirror_mode": {
        "name": "ipython",
        "version": 3
      },
      "file_extension": ".py",
      "mimetype": "text/x-python",
      "name": "python",
      "nbconvert_exporter": "python",
      "pygments_lexer": "ipython3",
      "version": "3.8.8"
    },
    "colab": {
      "name": "ims.ipynb",
      "provenance": []
    }
  },
  "cells": [
    {
      "cell_type": "code",
      "metadata": {
        "id": "922d4c31"
      },
      "source": [
        "#import required libraries\n",
        "\n",
        "import json\n",
        "from random import random"
      ],
      "id": "922d4c31",
      "execution_count": null,
      "outputs": []
    },
    {
      "cell_type": "code",
      "metadata": {
        "id": "4488f9c4"
      },
      "source": [
        "def login(i_username, i_password):\n",
        "    with open('inventory.json', 'r') as inv:\n",
        "        data = json.load(inv)\n",
        "        credentials = data['credentials']\n",
        "        username = credentials['username']\n",
        "        password = credentials['password']\n",
        "\n",
        "        if i_username != username or i_password != password:\n",
        "            return False\n",
        "        else:\n",
        "            return True"
      ],
      "id": "4488f9c4",
      "execution_count": null,
      "outputs": []
    },
    {
      "cell_type": "code",
      "metadata": {
        "id": "3a768073"
      },
      "source": [
        "def admin():\n",
        "    print(\"\\t\"*3 + \"-\"*5 + \"LOGIN\" + \"-\"*5)\n",
        "    username = input('Enter username: ').strip()\n",
        "    password = input('Enter password: ').strip()\n",
        "\n",
        "    if login(username, password):\n",
        "        print('Logged in sucessfully!')\n",
        "        admin_panel()\n",
        "    else:\n",
        "        print('Please enter correct username & password')\n",
        "        return admin()"
      ],
      "id": "3a768073",
      "execution_count": null,
      "outputs": []
    },
    {
      "cell_type": "code",
      "metadata": {
        "id": "7711fa1a"
      },
      "source": [
        "def view_product():\n",
        "    with open('inventory.json','r') as inv:\n",
        "        data=json.load(inv)\n",
        "        inv.close()\n",
        "        print('Product ID Product Name \\t  Category \\t\\tBrand')\n",
        "        print(\"-\" *75)\n",
        "        for product_id, product in data['products'].items():\n",
        "            print(f\"{product_id : <10} \",f\"{product['name']: <22}\",f\"{product['category']: <20}\",f\"{product['brand']: <15}\")"
      ],
      "id": "7711fa1a",
      "execution_count": null,
      "outputs": []
    },
    {
      "cell_type": "code",
      "metadata": {
        "id": "aaf96ef8",
        "outputId": "00708215-0dd1-417f-ced0-68829c7f31c6"
      },
      "source": [
        "# Run this to View Products\n",
        "view_product()"
      ],
      "id": "aaf96ef8",
      "execution_count": null,
      "outputs": [
        {
          "name": "stdout",
          "output_type": "stream",
          "text": [
            "Product ID Product Name \t  Category \t\tBrand\n",
            "---------------------------------------------------------------------------\n",
            "3326        Tomato                 Vegetable            Generic        \n",
            "4243        Yippie                 Noodles              ITC            \n",
            "4278        HappyHappy Biscuit     Biscuit              Parle          \n",
            "4438        KitKat                 Chocolate            Nestle         \n",
            "4494        Water                  Drinks               Bisleri        \n",
            "4918        Kurkure                Snacks               Parle          \n",
            "5380        Lux                    Soap                 Unilever       \n",
            "5383        Maggi                  Noodles              Nestle         \n",
            "5682        Mango                  Fruits               Generic        \n",
            "5718        Tea powder             Drinks               Taj            \n",
            "6384        Munch                  Chocolate            Nestle         \n",
            "6391        Cofee                  Drinks               Nestle         \n",
            "6600        wheat flour            Flour                Ashirwad       \n",
            "6890        Bread                  Dairy                Mishras        \n",
            "7145        Onions                 Vegetable            Generic        \n",
            "7310        Eggs                   Dairy                Generic        \n",
            "7605        Lays                   Chips                Fritolay       \n",
            "7671        Cheese                 Dairy                Amul           \n",
            "8088        Rice                   Grains               Kohinoor       \n",
            "8249        Coconut Oil            Oil                  Parachute      \n",
            "8289        Bananas                Fruits               Generic        \n",
            "8803        Apple                  Fruits               Generic        \n",
            "8994        Iodex                  Balm                 GSK            \n",
            "9271        GoodDay                Coockies             Britania       \n",
            "9466        Ball pen               Stationery           Reynolds       \n",
            "9800        Soda                   Drinks               PepsiCo        \n"
          ]
        }
      ]
    },
    {
      "cell_type": "code",
      "metadata": {
        "id": "c7f71b2f"
      },
      "source": [
        "def add_product():\n",
        "    product_name = input('Enter product name: ').strip()\n",
        "    quantity = int(input('Enter Quantity available: ').strip())\n",
        "    category = input('Enter Category: ').strip()\n",
        "    brand = input('Enter Brand: ').strip()\n",
        "    price = float(input('Enter price: ').strip())\n",
        "\n",
        "    if not product_name:\n",
        "        print('Please fill all the fields correctly ...')\n",
        "        return add_product()\n",
        "\n",
        "    product_id = str(int(random() * 10000))\n",
        "    with open('inventory.json', 'r') as inv:\n",
        "        data = json.load(inv)\n",
        "        data['products'][product_id] = {\n",
        "            \"name\": product_name,\n",
        "            \"price\": price,\n",
        "            \"quantity\" : quantity,\n",
        "            \"category\" : category,\n",
        "            \"brand\" : brand\n",
        "        }\n",
        "        with open('inventory.json', 'w') as inv:\n",
        "            json.dump(data, inv, indent=2, sort_keys=True)\n",
        "           \n",
        "    return admin_panel()"
      ],
      "id": "c7f71b2f",
      "execution_count": null,
      "outputs": []
    },
    {
      "cell_type": "code",
      "metadata": {
        "id": "95e826d6"
      },
      "source": [
        "# Execute this to test Add product function\n",
        "add_product()"
      ],
      "id": "95e826d6",
      "execution_count": null,
      "outputs": []
    },
    {
      "cell_type": "code",
      "metadata": {
        "id": "34083fc5"
      },
      "source": [
        "def search_product():\n",
        "    product_name = input('Search product: ').strip()\n",
        "    with open('inventory.json', 'r') as inv:\n",
        "        data = json.load(inv)\n",
        "        for product_id, product in data['products'].items():\n",
        "            if product['name'].find(product_name) > -1:\n",
        "                print(f\"Product ID: {product_id}\")\n",
        "                print(f\"Product Name: {product['name']}\")\n",
        "                print(f\"Price: {product['price']}\")\n",
        "                print(f\"Available quantity: {product['quantity']}\")\n",
        "                print(f\"Category: {product['category']}\")\n",
        "                print(f\"Brand: {product['brand']}\")\n",
        "                \n",
        "                \n",
        "                print(\"-\"*10)"
      ],
      "id": "34083fc5",
      "execution_count": null,
      "outputs": []
    },
    {
      "cell_type": "code",
      "metadata": {
        "id": "9d2579f7",
        "outputId": "ab0cd636-c39c-45d4-ddb5-e5f854bfd28d"
      },
      "source": [
        "# Run this to test Search product function\n",
        "search_product()"
      ],
      "id": "9d2579f7",
      "execution_count": null,
      "outputs": [
        {
          "name": "stdout",
          "output_type": "stream",
          "text": [
            "Search product: pen\n",
            "Product ID: 9466\n",
            "Product Name: Ball pen\n",
            "Price: 7.0\n",
            "Available quantity: 73\n",
            "Category: Stationery\n",
            "Brand: Reynolds\n",
            "----------\n"
          ]
        }
      ]
    },
    {
      "cell_type": "code",
      "metadata": {
        "id": "f0fa9b46"
      },
      "source": [
        "def update_product():\n",
        "    product_id = input('Enter product id: ').strip()\n",
        "    if not product_id:\n",
        "        print(\"Please enter a valid id ...\")\n",
        "        return update_product()\n",
        "\n",
        "    with open('inventory.json', 'r') as inv:\n",
        "        data = json.load(inv)\n",
        "        ids = data['products'].keys()\n",
        "        if product_id not in ids:\n",
        "            print(\"Please enter a valid id ...\")\n",
        "            return update_product()\n",
        "        print('Hit \"Enter\" to skip updating that value')\n",
        "        u_name = input('Enter updated product name: ').strip()\n",
        "        u_price =input('Enter updated price: ').strip()\n",
        "        u_quantity = input('Enter number added: ').strip()\n",
        "        u_category = input('Enter updated category: ').strip()\n",
        "        u_brand = input('Enter updated brand: ').strip()\n",
        "        \n",
        "\n",
        "        if not u_name:\n",
        "            u_name = data['products'][product_id]['name']\n",
        "            \n",
        "        if not u_price:\n",
        "            u_price = data['products'][product_id]['price']\n",
        "        \n",
        "        if not u_category:\n",
        "            u_category = data['products'][product_id]['category']\n",
        "\n",
        "        if not u_brand:\n",
        "            u_brand = data['products'][product_id]['brand']\n",
        "            \n",
        "        if not u_quantity:\n",
        "            u_quantity = data['products'][product_id]['quantity']\n",
        "\n",
        "        updated_product = {\n",
        "            \"name\": u_name,\n",
        "            \"price\": int(u_price),\n",
        "            \"quantity\" : data['products'][product_id]['quantity'] + int(u_quantity),\n",
        "            \"category\" : u_category,\n",
        "            \"brand\" : u_brand\n",
        "        }\n",
        "\n",
        "        data['products'][product_id] = updated_product\n",
        "\n",
        "        with open('inventory.json', 'w') as inv:\n",
        "            json.dump(data, inv,indent=2, sort_keys=True)\n",
        "            \n",
        "        return admin_panel()"
      ],
      "id": "f0fa9b46",
      "execution_count": null,
      "outputs": []
    },
    {
      "cell_type": "code",
      "metadata": {
        "id": "6230f6f2",
        "outputId": "9c8771e0-c19b-4754-ddc9-d7b81e019e7c"
      },
      "source": [
        "# Run this to test Update product function\n",
        "update_product()"
      ],
      "id": "6230f6f2",
      "execution_count": null,
      "outputs": [
        {
          "name": "stdout",
          "output_type": "stream",
          "text": [
            "Enter product id: 9466\n",
            "Hit \"Enter\" to skip updating that value\n",
            "Enter updated product name: \n",
            "Enter updated price: 6\n",
            "Enter number added: 5\n",
            "Enter updated category: \n",
            "Enter updated brand: \n"
          ]
        }
      ]
    },
    {
      "cell_type": "code",
      "metadata": {
        "id": "006806c4"
      },
      "source": [
        "def delete_product():\n",
        "    product_id = input('Enter product id: ').strip()\n",
        "    if not product_id:\n",
        "        print(\"Please enter a valid id ...\")\n",
        "        return update_product()\n",
        "\n",
        "    with open('inventory.json', 'r') as inv:\n",
        "        data = json.load(inv)\n",
        "        ids = data['products'].keys()\n",
        "        if product_id not in ids:\n",
        "            print(\"Please enter a valid id ...\")\n",
        "            return update_product()\n",
        "\n",
        "        data['products'].pop(product_id)\n",
        "\n",
        "        with open('inventory.json', 'w') as inv:\n",
        "            json.dump(data, inv,indent=2, sort_keys=True)\n",
        "            \n",
        "            \n",
        "    return admin_panel()"
      ],
      "id": "006806c4",
      "execution_count": null,
      "outputs": []
    },
    {
      "cell_type": "code",
      "metadata": {
        "id": "cd262d46"
      },
      "source": [
        "def admin_panel():\n",
        "    \n",
        "    print('\\t\\t----------WELCOME TO INVENTORY----------')\n",
        "    print('1- Add product')\n",
        "    print('2- Search product')\n",
        "    print('3- View Products')\n",
        "    print('4- Update product')\n",
        "    print('5- Delete product')\n",
        "    print('6- Logout')\n",
        "\n",
        "    option = int(input('Enter option: ').strip())\n",
        "\n",
        "    if option == 6:\n",
        "        main()\n",
        "\n",
        "    if option < 1 or option > 5:\n",
        "        print('Invalid option')\n",
        "        input('Press <enter> key to continue ...')\n",
        "        return adminpanel()\n",
        "\n",
        "    if option == 1:\n",
        "        add_product()\n",
        "    elif option == 2:\n",
        "        search_product()\n",
        "    elif option==3:\n",
        "        view_product()\n",
        "    elif option == 4:\n",
        "        update_product()\n",
        "    else:\n",
        "        delete_product()\n",
        "\n",
        "    return admin_panel()"
      ],
      "id": "cd262d46",
      "execution_count": null,
      "outputs": []
    },
    {
      "cell_type": "code",
      "metadata": {
        "id": "59e31b2b"
      },
      "source": [
        "def transaction(pdt_ids) :\n",
        "        import time\n",
        "        time.ctime()\n",
        "        \n",
        "        sales = {}\n",
        "        report=[]\n",
        "    \n",
        "        total=0\n",
        "\n",
        "        with open('inventory.json','r') as j_f:\n",
        "            data=json.load(j_f)\n",
        "            \n",
        "        \n",
        "        order={}\n",
        "        report.append(str(time.ctime())+'\\nTransaction ID: '+str(data['transid']))\n",
        "\n",
        "            \n",
        "        for pdt_id in pdt_ids:\n",
        "            print(f\"Selected Product Name: {data['products'][pdt_id]['name']} -\",f\"Price : {data['products'][pdt_id]['price']}\",f\"\\nQuantity Available : {data['products'][pdt_id]['quantity']}\")\n",
        "            order[pdt_id]=input(\"Enter the Quantity\")\n",
        "        \n",
        "        print(\"\\n************Bill***************\\n\")\n",
        "        print(\"Receipt No : \",data['transid'])\n",
        "        print(time.ctime(),'\\n')\n",
        "        for x, y in order.items():\n",
        "            print(f\"{data['products'][x]['name']}  : {data['products'][x]['price']} *\",y,\"=\",int(data['products'][x]['price'])*int(y))\n",
        "            total += (int(data['products'][x]['price'])*int(y))\n",
        "            \n",
        "        print(\"************************************\")\n",
        "        print(\"Total =\",total,\"Rs\")\n",
        "        print(\"************************************\")\n",
        "        \n",
        "        \n",
        "        for k, v in order.items():\n",
        "    \n",
        "            #updating product data in json file\n",
        "            data ['products'][k]['quantity'] = int(int(data ['products'][k]['quantity']) - int(v))\n",
        "            j_f = open(\"inventory.json\", \"w+\")\n",
        "            json.dump(data, j_f, indent=2, sort_keys=True)\n",
        "            data['transid'] += 1\n",
        "   \n",
        "\n",
        "            #generating data for sales file    \n",
        "            report.append('\\nProduct name: '+data['products'][k]['name']+\"\\tQty sold: \"+str(v))\n",
        "            fdr=open('report.txt','a') \n",
        "            \n",
        "        report.append('\\nTotal Amount: ' + str(total) + 'Rs \\n\\n ')\n",
        "        for i in report:\n",
        "            fdr.write(i)\n",
        "        fdr.close()\n",
        "            \n",
        "#     return main()     \n"
      ],
      "id": "59e31b2b",
      "execution_count": null,
      "outputs": []
    },
    {
      "cell_type": "markdown",
      "metadata": {
        "id": "3caacc95"
      },
      "source": [
        "##Default Credentials: user_id = 'admin'            pass: '12345'"
      ],
      "id": "3caacc95"
    },
    {
      "cell_type": "code",
      "metadata": {
        "id": "6aea9e87",
        "outputId": "095c538b-6dac-4de9-9d66-8c97ec1abaff"
      },
      "source": [
        "def main():\n",
        "    ui_pid=[]\n",
        "    print('\\n \\t\\t----------WELCOME TO SHOP-------------\\n')\n",
        "    print('\\t What do you Want to buy ')\n",
        "    view_product()\n",
        "    print('\\n\\t\\t\\t\\t\\t\\t\\t\\t\\t\\t\\t Enter 0 for admin login ')\n",
        "    ui_pid = [item for item in input(\"Enter the Product IDs : \").split()]\n",
        "    \n",
        "    with open('inventory.json', 'r') as inv:\n",
        "        data = json.load(inv)\n",
        "        ids = data['products'].keys()\n",
        "        \n",
        "        if (ui_pid[0]=='0'):\n",
        "            admin()\n",
        "        else:\n",
        "            for i in ui_pid:\n",
        "                if (i not in ids):\n",
        "                    print(\"Invalid Input\")\n",
        "                    main()\n",
        "        transaction(ui_pid)\n",
        "\n",
        "\n",
        "    \n",
        "\n",
        "main()"
      ],
      "id": "6aea9e87",
      "execution_count": null,
      "outputs": [
        {
          "name": "stdout",
          "output_type": "stream",
          "text": [
            "\n",
            " \t\t----------WELCOME TO SHOP-------------\n",
            "\n",
            "\t What do you Want to buy \n",
            "Product ID: 3326  : Tomato\n",
            "Product ID: 4243  : Yippie\n",
            "Product ID: 4278  : HappyHappy Biscuit\n",
            "Product ID: 4438  : KitKat\n",
            "Product ID: 4494  : Water\n",
            "Product ID: 4918  : Kurkure\n",
            "Product ID: 5380  : Lux\n",
            "Product ID: 5383  : Maggi\n",
            "Product ID: 5682  : Mango\n",
            "Product ID: 5718  : Tea powder\n",
            "Product ID: 6384  : Munch\n",
            "Product ID: 6391  : Cofee\n",
            "Product ID: 6600  : wheat flour\n",
            "Product ID: 6890  : Bread\n",
            "Product ID: 7145  : Onions\n",
            "Product ID: 7310  : Eggs\n",
            "Product ID: 7605  : Lays\n",
            "Product ID: 7671  : Cheese\n",
            "Product ID: 8088  : Rice\n",
            "Product ID: 8249  : Coconut Oil\n",
            "Product ID: 8289  : Bananas\n",
            "Product ID: 8803  : Apple\n",
            "Product ID: 8994  : Iodex\n",
            "Product ID: 9271  : GoodDay\n",
            "Product ID: 9466  : Ball pen\n",
            "Product ID: 9800  : Soda\n",
            "\n",
            "\t\t\t\t\t\t\t\t\t\t\t Enter 0 for admin login \n",
            "Enter the Product IDs : 4278 6384\n",
            "Selected Product Name: HappyHappy Biscuit - Price : 10.0 \n",
            "Quantity Available : 65\n",
            "Enter the Quantity2\n",
            "Selected Product Name: Munch - Price : 5.0 \n",
            "Quantity Available : 85\n",
            "Enter the Quantity4\n",
            "\n",
            "************Bill***************\n",
            "\n",
            "Receipt No :  20210005\n",
            "Sun Sep  5 17:15:08 2021 \n",
            "\n",
            "HappyHappy Biscuit  : 10.0 * 2 = 20\n",
            "Munch  : 5.0 * 4 = 20\n",
            "************************************\n",
            "Total = 40 Rs\n",
            "************************************\n"
          ]
        }
      ]
    }
  ]
}